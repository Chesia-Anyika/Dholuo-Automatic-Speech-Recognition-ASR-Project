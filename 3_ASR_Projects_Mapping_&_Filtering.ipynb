{
  "cells": [
    {
      "cell_type": "markdown",
      "source": [
        "# Automatic Speech Recognition Project - Part 3\n",
        "Due to runtime constraints, I was unable to convert all 22,000 audio files in the dataset from `.mp3` to `.wav` format in the last step, and was left with approximately 12,000 files to use.\n",
        "\n",
        "To ensure consistency between the converted audio files and their corresponding transcriptions, I focused on updating the paths in the train, test, and dev `.tsv` files, which contain the transcription data. This involved conducting a mapping and filtering process to retain only the paths corresponding to the successfully converted `.wav` files. By aligning the transcription files with the converted audio files, I maintained data integrity and ensured the dataset was properly prepared for training, testing, and development phases of the ASR model.\n",
        "\n",
        "## Step 1: Import the Necessary Libraries"
      ],
      "metadata": {
        "id": "wIKbu2srWByP"
      }
    },
    {
      "cell_type": "code",
      "execution_count": null,
      "metadata": {
        "colab": {
          "background_save": true,
          "base_uri": "https://localhost:8080/"
        },
        "id": "vpeUwSXvmlej",
        "collapsed": true,
        "outputId": "61ccc34b-4b6e-4d0b-cddb-f1028ffc575b"
      },
      "outputs": [
        {
          "ename": "MessageError",
          "evalue": "Error: credential propagation was unsuccessful",
          "output_type": "error",
          "traceback": [
            "\u001b[0;31m---------------------------------------------------------------------------\u001b[0m",
            "\u001b[0;31mMessageError\u001b[0m                              Traceback (most recent call last)",
            "\u001b[0;32m<ipython-input-1-663e896540a0>\u001b[0m in \u001b[0;36m<cell line: 9>\u001b[0;34m()\u001b[0m\n\u001b[1;32m      7\u001b[0m \u001b[0;34m\u001b[0m\u001b[0m\n\u001b[1;32m      8\u001b[0m \u001b[0;31m# Mount Google Drive\u001b[0m\u001b[0;34m\u001b[0m\u001b[0;34m\u001b[0m\u001b[0m\n\u001b[0;32m----> 9\u001b[0;31m \u001b[0mdrive\u001b[0m\u001b[0;34m.\u001b[0m\u001b[0mmount\u001b[0m\u001b[0;34m(\u001b[0m\u001b[0;34m'/content/drive'\u001b[0m\u001b[0;34m)\u001b[0m\u001b[0;34m\u001b[0m\u001b[0;34m\u001b[0m\u001b[0m\n\u001b[0m",
            "\u001b[0;32m/usr/local/lib/python3.10/dist-packages/google/colab/drive.py\u001b[0m in \u001b[0;36mmount\u001b[0;34m(mountpoint, force_remount, timeout_ms, readonly)\u001b[0m\n\u001b[1;32m     98\u001b[0m \u001b[0;32mdef\u001b[0m \u001b[0mmount\u001b[0m\u001b[0;34m(\u001b[0m\u001b[0mmountpoint\u001b[0m\u001b[0;34m,\u001b[0m \u001b[0mforce_remount\u001b[0m\u001b[0;34m=\u001b[0m\u001b[0;32mFalse\u001b[0m\u001b[0;34m,\u001b[0m \u001b[0mtimeout_ms\u001b[0m\u001b[0;34m=\u001b[0m\u001b[0;36m120000\u001b[0m\u001b[0;34m,\u001b[0m \u001b[0mreadonly\u001b[0m\u001b[0;34m=\u001b[0m\u001b[0;32mFalse\u001b[0m\u001b[0;34m)\u001b[0m\u001b[0;34m:\u001b[0m\u001b[0;34m\u001b[0m\u001b[0;34m\u001b[0m\u001b[0m\n\u001b[1;32m     99\u001b[0m   \u001b[0;34m\"\"\"Mount your Google Drive at the specified mountpoint path.\"\"\"\u001b[0m\u001b[0;34m\u001b[0m\u001b[0;34m\u001b[0m\u001b[0m\n\u001b[0;32m--> 100\u001b[0;31m   return _mount(\n\u001b[0m\u001b[1;32m    101\u001b[0m       \u001b[0mmountpoint\u001b[0m\u001b[0;34m,\u001b[0m\u001b[0;34m\u001b[0m\u001b[0;34m\u001b[0m\u001b[0m\n\u001b[1;32m    102\u001b[0m       \u001b[0mforce_remount\u001b[0m\u001b[0;34m=\u001b[0m\u001b[0mforce_remount\u001b[0m\u001b[0;34m,\u001b[0m\u001b[0;34m\u001b[0m\u001b[0;34m\u001b[0m\u001b[0m\n",
            "\u001b[0;32m/usr/local/lib/python3.10/dist-packages/google/colab/drive.py\u001b[0m in \u001b[0;36m_mount\u001b[0;34m(mountpoint, force_remount, timeout_ms, ephemeral, readonly)\u001b[0m\n\u001b[1;32m    135\u001b[0m   )\n\u001b[1;32m    136\u001b[0m   \u001b[0;32mif\u001b[0m \u001b[0mephemeral\u001b[0m\u001b[0;34m:\u001b[0m\u001b[0;34m\u001b[0m\u001b[0;34m\u001b[0m\u001b[0m\n\u001b[0;32m--> 137\u001b[0;31m     _message.blocking_request(\n\u001b[0m\u001b[1;32m    138\u001b[0m         \u001b[0;34m'request_auth'\u001b[0m\u001b[0;34m,\u001b[0m\u001b[0;34m\u001b[0m\u001b[0;34m\u001b[0m\u001b[0m\n\u001b[1;32m    139\u001b[0m         \u001b[0mrequest\u001b[0m\u001b[0;34m=\u001b[0m\u001b[0;34m{\u001b[0m\u001b[0;34m'authType'\u001b[0m\u001b[0;34m:\u001b[0m \u001b[0;34m'dfs_ephemeral'\u001b[0m\u001b[0;34m}\u001b[0m\u001b[0;34m,\u001b[0m\u001b[0;34m\u001b[0m\u001b[0;34m\u001b[0m\u001b[0m\n",
            "\u001b[0;32m/usr/local/lib/python3.10/dist-packages/google/colab/_message.py\u001b[0m in \u001b[0;36mblocking_request\u001b[0;34m(request_type, request, timeout_sec, parent)\u001b[0m\n\u001b[1;32m    174\u001b[0m       \u001b[0mrequest_type\u001b[0m\u001b[0;34m,\u001b[0m \u001b[0mrequest\u001b[0m\u001b[0;34m,\u001b[0m \u001b[0mparent\u001b[0m\u001b[0;34m=\u001b[0m\u001b[0mparent\u001b[0m\u001b[0;34m,\u001b[0m \u001b[0mexpect_reply\u001b[0m\u001b[0;34m=\u001b[0m\u001b[0;32mTrue\u001b[0m\u001b[0;34m\u001b[0m\u001b[0;34m\u001b[0m\u001b[0m\n\u001b[1;32m    175\u001b[0m   )\n\u001b[0;32m--> 176\u001b[0;31m   \u001b[0;32mreturn\u001b[0m \u001b[0mread_reply_from_input\u001b[0m\u001b[0;34m(\u001b[0m\u001b[0mrequest_id\u001b[0m\u001b[0;34m,\u001b[0m \u001b[0mtimeout_sec\u001b[0m\u001b[0;34m)\u001b[0m\u001b[0;34m\u001b[0m\u001b[0;34m\u001b[0m\u001b[0m\n\u001b[0m",
            "\u001b[0;32m/usr/local/lib/python3.10/dist-packages/google/colab/_message.py\u001b[0m in \u001b[0;36mread_reply_from_input\u001b[0;34m(message_id, timeout_sec)\u001b[0m\n\u001b[1;32m    101\u001b[0m     ):\n\u001b[1;32m    102\u001b[0m       \u001b[0;32mif\u001b[0m \u001b[0;34m'error'\u001b[0m \u001b[0;32min\u001b[0m \u001b[0mreply\u001b[0m\u001b[0;34m:\u001b[0m\u001b[0;34m\u001b[0m\u001b[0;34m\u001b[0m\u001b[0m\n\u001b[0;32m--> 103\u001b[0;31m         \u001b[0;32mraise\u001b[0m \u001b[0mMessageError\u001b[0m\u001b[0;34m(\u001b[0m\u001b[0mreply\u001b[0m\u001b[0;34m[\u001b[0m\u001b[0;34m'error'\u001b[0m\u001b[0;34m]\u001b[0m\u001b[0;34m)\u001b[0m\u001b[0;34m\u001b[0m\u001b[0;34m\u001b[0m\u001b[0m\n\u001b[0m\u001b[1;32m    104\u001b[0m       \u001b[0;32mreturn\u001b[0m \u001b[0mreply\u001b[0m\u001b[0;34m.\u001b[0m\u001b[0mget\u001b[0m\u001b[0;34m(\u001b[0m\u001b[0;34m'data'\u001b[0m\u001b[0;34m,\u001b[0m \u001b[0;32mNone\u001b[0m\u001b[0;34m)\u001b[0m\u001b[0;34m\u001b[0m\u001b[0;34m\u001b[0m\u001b[0m\n\u001b[1;32m    105\u001b[0m \u001b[0;34m\u001b[0m\u001b[0m\n",
            "\u001b[0;31mMessageError\u001b[0m: Error: credential propagation was unsuccessful"
          ]
        }
      ],
      "source": [
        "#libraries\n",
        "import pandas as pd\n",
        "import os\n",
        "\n",
        "# Import the drive module from Google Colab\n",
        "from google.colab import drive\n",
        "\n",
        "# Mount Google Drive\n",
        "drive.mount('/content/drive')\n"
      ]
    },
    {
      "cell_type": "markdown",
      "source": [
        "Step 2: Convert all 'paths' to .wav format"
      ],
      "metadata": {
        "id": "p0jkBq1xWmZR"
      }
    },
    {
      "cell_type": "code",
      "execution_count": null,
      "metadata": {
        "colab": {
          "base_uri": "https://localhost:8080/"
        },
        "id": "1UYGZPfDm8nl",
        "outputId": "835f2f11-e0cc-4292-9a10-5b0898fc369b"
      },
      "outputs": [
        {
          "name": "stdout",
          "output_type": "stream",
          "text": [
            "Found 12962 audio files.\n"
          ]
        }
      ],
      "source": [
        "# Paths to your files\n",
        "audio_folder = \"/content/drive/My Drive/clips_wav\"\n",
        "\n",
        "# Step 4: Get list of audio files in 'clips_wav'\n",
        "audio_files = set(f.split('.')[0] for f in os.listdir(audio_folder) if f.endswith('.wav'))\n",
        "print(f\"Found {len(audio_files)} audio files.\")"
      ]
    },
    {
      "cell_type": "code",
      "execution_count": null,
      "metadata": {
        "colab": {
          "base_uri": "https://localhost:8080/"
        },
        "id": "Cdp2d-SnnAxV",
        "outputId": "87d2abfb-b7dd-4fa2-a62a-243162900ee7"
      },
      "outputs": [
        {
          "name": "stdout",
          "output_type": "stream",
          "text": [
            "Successfully loaded /content/drive/My Drive/ASR/train.tsv\n",
            "Successfully loaded /content/drive/My Drive/ASR/test.tsv\n",
            "Successfully loaded /content/drive/My Drive/ASR/dev.tsv\n",
            "                                           client_id  \\\n",
            "0  76220259d4c614b1876412e489524ede62b700927b202d...   \n",
            "1  76220259d4c614b1876412e489524ede62b700927b202d...   \n",
            "2  76220259d4c614b1876412e489524ede62b700927b202d...   \n",
            "3  76220259d4c614b1876412e489524ede62b700927b202d...   \n",
            "4  76220259d4c614b1876412e489524ede62b700927b202d...   \n",
            "\n",
            "                            path  \\\n",
            "0  common_voice_luo_40228998.mp3   \n",
            "1  common_voice_luo_40228999.mp3   \n",
            "2  common_voice_luo_40229003.mp3   \n",
            "3  common_voice_luo_40229004.mp3   \n",
            "4  common_voice_luo_40229005.mp3   \n",
            "\n",
            "                                         sentence_id  \\\n",
            "0  0b6d23f21850cf38f2da23b85e5b9d243e327f4e1a987c...   \n",
            "1  0093b37219cd1409b042fc7c111546d1338a34dfa32d04...   \n",
            "2  11417bdb395c6a8e9095f673662428f371c1ffea41a4d7...   \n",
            "3  1199d8ab1254d0772d3efa7f1f6113881809fc6c80aff5...   \n",
            "4  058ef183ec6c447b759aab31e64c8d9b1c0086828801d0...   \n",
            "\n",
            "                                            sentence      sentence_domain  \\\n",
            "0  ber ka inyiso pachi kaluwore gi weche miwacho ...              general   \n",
            "1  Ne iparo ni gik ma kamago ne nyalo kelo chandr...              general   \n",
            "2     A. mar Bedo ng'at maduong' en gima tek ahinya.              general   \n",
            "3                         Nyaka bed ni nitie chik ma  technology_robotics   \n",
            "4    Sani weche mag ohala isomo embalariany ng’enyne              general   \n",
            "\n",
            "   up_votes  down_votes  age gender  accents  variant locale  segment  \n",
            "0         2           0  NaN    NaN      NaN      NaN    luo      NaN  \n",
            "1         2           1  NaN    NaN      NaN      NaN    luo      NaN  \n",
            "2         2           0  NaN    NaN      NaN      NaN    luo      NaN  \n",
            "3         2           0  NaN    NaN      NaN      NaN    luo      NaN  \n",
            "4         2           0  NaN    NaN      NaN      NaN    luo      NaN  \n",
            "                                           client_id  \\\n",
            "0  01d056dd20b981117632e060d72c99b78271c35d971f5c...   \n",
            "1  5084426734db1876936ae7bbdd72858a654bc46877a588...   \n",
            "2  95c77443ff068f953bfe4a14471b18f4cc94a08c74a771...   \n",
            "3  dd2c93e373aa566aed23d052723a253bc4a0ea604b8cbb...   \n",
            "4  d8dee50072545349474f2766b1e41c035e725eab1e68f3...   \n",
            "\n",
            "                            path  \\\n",
            "0  common_voice_luo_40609150.mp3   \n",
            "1  common_voice_luo_40636306.mp3   \n",
            "2  common_voice_luo_40258074.mp3   \n",
            "3  common_voice_luo_40833291.mp3   \n",
            "4  common_voice_luo_40820771.mp3   \n",
            "\n",
            "                                         sentence_id  \\\n",
            "0  6a460e6ea255a011d13f980e2a317c35cb280d34b38772...   \n",
            "1  69ca449ccd58626ad3b0bdf9e787d00231d9dcf5082cca...   \n",
            "2  2d7ad3d79559dac77efe62807164187364c57e8fdf1ebc...   \n",
            "3  0b1db575a4a02a44caa5e0538da4754a121d7f251bab7f...   \n",
            "4  616c471e1f2909c0c168c5096123ca27ad56c9664ed880...   \n",
            "\n",
            "                                            sentence       sentence_domain  \\\n",
            "0                               waduto wakalo e pek.               general   \n",
            "1                                  Wayu nyinge ng’a?               general   \n",
            "2                         Swahili e lando wach maber               general   \n",
            "3                            Ango motimo wang dheno.      agriculture_food   \n",
            "4  Ikruok ochako kawuono motelo ne chako ayanga p...  news_current_affairs   \n",
            "\n",
            "   up_votes  down_votes       age gender  accents  variant locale  segment  \n",
            "0         2           0       NaN    NaN      NaN      NaN    luo      NaN  \n",
            "1         2           0  twenties    NaN      NaN      NaN    luo      NaN  \n",
            "2         2           0  twenties    NaN      NaN      NaN    luo      NaN  \n",
            "3         2           0  thirties    NaN      NaN      NaN    luo      NaN  \n",
            "4         2           0  thirties    NaN      NaN      NaN    luo      NaN  \n",
            "                                           client_id  \\\n",
            "0  6d243f0d9779d2cfbffbe09729b57546067abca6c16f0d...   \n",
            "1  6d243f0d9779d2cfbffbe09729b57546067abca6c16f0d...   \n",
            "2  6d243f0d9779d2cfbffbe09729b57546067abca6c16f0d...   \n",
            "3  6d243f0d9779d2cfbffbe09729b57546067abca6c16f0d...   \n",
            "4  6d243f0d9779d2cfbffbe09729b57546067abca6c16f0d...   \n",
            "\n",
            "                            path  \\\n",
            "0  common_voice_luo_40556704.mp3   \n",
            "1  common_voice_luo_40556707.mp3   \n",
            "2  common_voice_luo_40558345.mp3   \n",
            "3  common_voice_luo_40558364.mp3   \n",
            "4  common_voice_luo_40558389.mp3   \n",
            "\n",
            "                                         sentence_id  \\\n",
            "0  5c78f81439cd5d1a74d647448bf21f165abd55073835d6...   \n",
            "1  54b3b391c94a8ef9eb1cdb055b0facc12b5686caca6c50...   \n",
            "2  4f34d3506457318fa7f3a3ea29dbb7781e50aafd0d6f47...   \n",
            "3  54a371f19291fa92c6cb1f0a622b7fe7b7139a528427be...   \n",
            "4  53b244c1757ec63c177e1622a7122bd41c620242e6d614...   \n",
            "\n",
            "                                    sentence sentence_domain  up_votes  \\\n",
            "0     mach maduong' chakore e mirni mar mach         general         2   \n",
            "1                  Chalo tugo nein kakaneni.         general         2   \n",
            "2  mag chokruogno oyie ni wechego gin adier.         general         2   \n",
            "3                                  Ijakanye?         general         2   \n",
            "4                       Be nitie chiemo eot?         general         2   \n",
            "\n",
            "   down_votes       age gender  accents  variant locale  segment  \n",
            "0           0  twenties    NaN      NaN      NaN    luo      NaN  \n",
            "1           0  twenties    NaN      NaN      NaN    luo      NaN  \n",
            "2           1  twenties    NaN      NaN      NaN    luo      NaN  \n",
            "3           1  twenties    NaN      NaN      NaN    luo      NaN  \n",
            "4           0  twenties    NaN      NaN      NaN    luo      NaN  \n"
          ]
        }
      ],
      "source": [
        "import pandas as pd\n",
        "\n",
        "# Paths to your TSV files\n",
        "devtsv_path = \"/content/drive/My Drive/ASR/dev.tsv\"\n",
        "traintsv_path = \"/content/drive/My Drive/ASR/train.tsv\"\n",
        "testtsv_path = \"/content/drive/My Drive/ASR/test.tsv\"\n",
        "\n",
        "# Paths to save filtered files\n",
        "filtered_dev_path = \"/content/drive/My Drive/ASR/filtered_dev.tsv\"\n",
        "filtered_train_path = \"/content/drive/My Drive/ASR/filtered_train.tsv\"\n",
        "filtered_test_path = \"/content/drive/My Drive/ASR/filtered_test.tsv\"\n",
        "\n",
        "# Function to read TSV files into DataFrames\n",
        "def read_tsv_resiliently(file_path):\n",
        "    try:\n",
        "        # Read the TSV file, skipping bad lines and using the 'python' engine for compatibility\n",
        "        df = pd.read_csv(file_path, sep='\\t', on_bad_lines='skip', engine='python')\n",
        "        print(f\"Successfully loaded {file_path}\")\n",
        "        return df\n",
        "    except Exception as e:\n",
        "        print(f\"Error reading {file_path}: {e}\")\n",
        "        return None\n",
        "\n",
        "# Read the TSV files\n",
        "train_df = read_tsv_resiliently(traintsv_path)\n",
        "test_df = read_tsv_resiliently(testtsv_path)\n",
        "dev_df = read_tsv_resiliently(devtsv_path)\n",
        "\n",
        "# Optional: Print the first few rows of the DataFrames to verify\n",
        "if train_df is not None:\n",
        "    print(train_df.head())\n",
        "if test_df is not None:\n",
        "    print(test_df.head())\n",
        "if dev_df is not None:\n",
        "    print(dev_df.head())\n"
      ]
    },
    {
      "cell_type": "code",
      "execution_count": null,
      "metadata": {
        "colab": {
          "base_uri": "https://localhost:8080/"
        },
        "id": "bWAN14Z0pEhh",
        "outputId": "239a1a68-7cdb-462d-9757-c23483227c18"
      },
      "outputs": [
        {
          "name": "stdout",
          "output_type": "stream",
          "text": [
            "Replaced .mp3 with .wav in the 'path' column.\n",
            "Replaced .mp3 with .wav in the 'path' column.\n",
            "Replaced .mp3 with .wav in the 'path' column.\n",
            "                                           client_id  \\\n",
            "0  76220259d4c614b1876412e489524ede62b700927b202d...   \n",
            "1  76220259d4c614b1876412e489524ede62b700927b202d...   \n",
            "2  76220259d4c614b1876412e489524ede62b700927b202d...   \n",
            "3  76220259d4c614b1876412e489524ede62b700927b202d...   \n",
            "4  76220259d4c614b1876412e489524ede62b700927b202d...   \n",
            "\n",
            "                            path  \\\n",
            "0  common_voice_luo_40228998.wav   \n",
            "1  common_voice_luo_40228999.wav   \n",
            "2  common_voice_luo_40229003.wav   \n",
            "3  common_voice_luo_40229004.wav   \n",
            "4  common_voice_luo_40229005.wav   \n",
            "\n",
            "                                         sentence_id  \\\n",
            "0  0b6d23f21850cf38f2da23b85e5b9d243e327f4e1a987c...   \n",
            "1  0093b37219cd1409b042fc7c111546d1338a34dfa32d04...   \n",
            "2  11417bdb395c6a8e9095f673662428f371c1ffea41a4d7...   \n",
            "3  1199d8ab1254d0772d3efa7f1f6113881809fc6c80aff5...   \n",
            "4  058ef183ec6c447b759aab31e64c8d9b1c0086828801d0...   \n",
            "\n",
            "                                            sentence      sentence_domain  \\\n",
            "0  ber ka inyiso pachi kaluwore gi weche miwacho ...              general   \n",
            "1  Ne iparo ni gik ma kamago ne nyalo kelo chandr...              general   \n",
            "2     A. mar Bedo ng'at maduong' en gima tek ahinya.              general   \n",
            "3                         Nyaka bed ni nitie chik ma  technology_robotics   \n",
            "4    Sani weche mag ohala isomo embalariany ng’enyne              general   \n",
            "\n",
            "   up_votes  down_votes  age gender  accents  variant locale  segment  \n",
            "0         2           0  NaN    NaN      NaN      NaN    luo      NaN  \n",
            "1         2           1  NaN    NaN      NaN      NaN    luo      NaN  \n",
            "2         2           0  NaN    NaN      NaN      NaN    luo      NaN  \n",
            "3         2           0  NaN    NaN      NaN      NaN    luo      NaN  \n",
            "4         2           0  NaN    NaN      NaN      NaN    luo      NaN  \n",
            "                                           client_id  \\\n",
            "0  01d056dd20b981117632e060d72c99b78271c35d971f5c...   \n",
            "1  5084426734db1876936ae7bbdd72858a654bc46877a588...   \n",
            "2  95c77443ff068f953bfe4a14471b18f4cc94a08c74a771...   \n",
            "3  dd2c93e373aa566aed23d052723a253bc4a0ea604b8cbb...   \n",
            "4  d8dee50072545349474f2766b1e41c035e725eab1e68f3...   \n",
            "\n",
            "                            path  \\\n",
            "0  common_voice_luo_40609150.wav   \n",
            "1  common_voice_luo_40636306.wav   \n",
            "2  common_voice_luo_40258074.wav   \n",
            "3  common_voice_luo_40833291.wav   \n",
            "4  common_voice_luo_40820771.wav   \n",
            "\n",
            "                                         sentence_id  \\\n",
            "0  6a460e6ea255a011d13f980e2a317c35cb280d34b38772...   \n",
            "1  69ca449ccd58626ad3b0bdf9e787d00231d9dcf5082cca...   \n",
            "2  2d7ad3d79559dac77efe62807164187364c57e8fdf1ebc...   \n",
            "3  0b1db575a4a02a44caa5e0538da4754a121d7f251bab7f...   \n",
            "4  616c471e1f2909c0c168c5096123ca27ad56c9664ed880...   \n",
            "\n",
            "                                            sentence       sentence_domain  \\\n",
            "0                               waduto wakalo e pek.               general   \n",
            "1                                  Wayu nyinge ng’a?               general   \n",
            "2                         Swahili e lando wach maber               general   \n",
            "3                            Ango motimo wang dheno.      agriculture_food   \n",
            "4  Ikruok ochako kawuono motelo ne chako ayanga p...  news_current_affairs   \n",
            "\n",
            "   up_votes  down_votes       age gender  accents  variant locale  segment  \n",
            "0         2           0       NaN    NaN      NaN      NaN    luo      NaN  \n",
            "1         2           0  twenties    NaN      NaN      NaN    luo      NaN  \n",
            "2         2           0  twenties    NaN      NaN      NaN    luo      NaN  \n",
            "3         2           0  thirties    NaN      NaN      NaN    luo      NaN  \n",
            "4         2           0  thirties    NaN      NaN      NaN    luo      NaN  \n",
            "                                           client_id  \\\n",
            "0  6d243f0d9779d2cfbffbe09729b57546067abca6c16f0d...   \n",
            "1  6d243f0d9779d2cfbffbe09729b57546067abca6c16f0d...   \n",
            "2  6d243f0d9779d2cfbffbe09729b57546067abca6c16f0d...   \n",
            "3  6d243f0d9779d2cfbffbe09729b57546067abca6c16f0d...   \n",
            "4  6d243f0d9779d2cfbffbe09729b57546067abca6c16f0d...   \n",
            "\n",
            "                            path  \\\n",
            "0  common_voice_luo_40556704.wav   \n",
            "1  common_voice_luo_40556707.wav   \n",
            "2  common_voice_luo_40558345.wav   \n",
            "3  common_voice_luo_40558364.wav   \n",
            "4  common_voice_luo_40558389.wav   \n",
            "\n",
            "                                         sentence_id  \\\n",
            "0  5c78f81439cd5d1a74d647448bf21f165abd55073835d6...   \n",
            "1  54b3b391c94a8ef9eb1cdb055b0facc12b5686caca6c50...   \n",
            "2  4f34d3506457318fa7f3a3ea29dbb7781e50aafd0d6f47...   \n",
            "3  54a371f19291fa92c6cb1f0a622b7fe7b7139a528427be...   \n",
            "4  53b244c1757ec63c177e1622a7122bd41c620242e6d614...   \n",
            "\n",
            "                                    sentence sentence_domain  up_votes  \\\n",
            "0     mach maduong' chakore e mirni mar mach         general         2   \n",
            "1                  Chalo tugo nein kakaneni.         general         2   \n",
            "2  mag chokruogno oyie ni wechego gin adier.         general         2   \n",
            "3                                  Ijakanye?         general         2   \n",
            "4                       Be nitie chiemo eot?         general         2   \n",
            "\n",
            "   down_votes       age gender  accents  variant locale  segment  \n",
            "0           0  twenties    NaN      NaN      NaN    luo      NaN  \n",
            "1           0  twenties    NaN      NaN      NaN    luo      NaN  \n",
            "2           1  twenties    NaN      NaN      NaN    luo      NaN  \n",
            "3           1  twenties    NaN      NaN      NaN    luo      NaN  \n",
            "4           0  twenties    NaN      NaN      NaN    luo      NaN  \n"
          ]
        }
      ],
      "source": [
        "# Change the .mp3 extension to .wav in the 'path' column for all DataFrames\n",
        "def replace_mp3_with_wav(df):\n",
        "    if df is not None:\n",
        "        # Replace '.mp3' with '.wav' in the 'path' column\n",
        "        df['path'] = df['path'].str.replace('.mp3', '.wav', regex=False)\n",
        "        print(\"Replaced .mp3 with .wav in the 'path' column.\")\n",
        "    return df\n",
        "\n",
        "# Apply the function to each DataFrame\n",
        "train_df = replace_mp3_with_wav(train_df)\n",
        "test_df = replace_mp3_with_wav(test_df)\n",
        "dev_df = replace_mp3_with_wav(dev_df)\n",
        "\n",
        "# Optional: Print the updated first few rows of the DataFrames to verify\n",
        "if train_df is not None:\n",
        "    print(train_df.head())\n",
        "if test_df is not None:\n",
        "    print(test_df.head())\n",
        "if dev_df is not None:\n",
        "    print(dev_df.head())\n"
      ]
    },
    {
      "cell_type": "markdown",
      "source": [
        "## Step 3: Filter for existing paths"
      ],
      "metadata": {
        "id": "np0uqlMpWxB2"
      }
    },
    {
      "cell_type": "code",
      "execution_count": null,
      "metadata": {
        "colab": {
          "base_uri": "https://localhost:8080/"
        },
        "id": "SQquHCjHpUKO",
        "outputId": "39f7504c-448e-470f-88ee-2f4bacaf5373"
      },
      "outputs": [
        {
          "name": "stdout",
          "output_type": "stream",
          "text": [
            "Matching entries in dev dataset: 1570\n",
            "Matching entries in train dataset: 2498\n",
            "Matching entries in test dataset: 734\n",
            "\n",
            "Sample matches in dev dataset (path and audio name):\n",
            "                            path                  base_name\n",
            "0  common_voice_luo_40556704.wav  common_voice_luo_40556704\n",
            "1  common_voice_luo_40556707.wav  common_voice_luo_40556707\n",
            "2  common_voice_luo_40558345.wav  common_voice_luo_40558345\n",
            "3  common_voice_luo_40558364.wav  common_voice_luo_40558364\n",
            "4  common_voice_luo_40558389.wav  common_voice_luo_40558389\n",
            "\n",
            "Sample matches in train dataset (path and audio name):\n",
            "                              path                  base_name\n",
            "762  common_voice_luo_40498543.wav  common_voice_luo_40498543\n",
            "763  common_voice_luo_40498547.wav  common_voice_luo_40498547\n",
            "764  common_voice_luo_40498548.wav  common_voice_luo_40498548\n",
            "765  common_voice_luo_40498549.wav  common_voice_luo_40498549\n",
            "767  common_voice_luo_40498558.wav  common_voice_luo_40498558\n",
            "\n",
            "Sample matches in test dataset (path and audio name):\n",
            "                              path                  base_name\n",
            "786  common_voice_luo_40545070.wav  common_voice_luo_40545070\n",
            "787  common_voice_luo_40545072.wav  common_voice_luo_40545072\n",
            "788  common_voice_luo_40545074.wav  common_voice_luo_40545074\n",
            "789  common_voice_luo_40545076.wav  common_voice_luo_40545076\n",
            "790  common_voice_luo_40545276.wav  common_voice_luo_40545276\n"
          ]
        }
      ],
      "source": [
        "import os\n",
        "\n",
        "# Get the list of audio files (wav files) in the audio folder\n",
        "audio_files = set(f.replace(\".wav\", \"\") for f in os.listdir(audio_folder) if f.endswith(\".wav\"))\n",
        "\n",
        "# Define a function to compare paths and audio file names\n",
        "def compare_paths_with_audio_files(df):\n",
        "    # Clean up paths by removing the \".mp3\" extension and comparing the base name\n",
        "    df['base_name'] = df['path'].apply(lambda x: x.replace(\".wav\", \"\").split(\"/\")[-1])  # Extract base name\n",
        "    matches = df[df['base_name'].isin(audio_files)]  # Check if base name matches any audio file name\n",
        "    return matches\n",
        "\n",
        "# Compare paths in each dataset\n",
        "dev_matches = compare_paths_with_audio_files(dev_df)\n",
        "train_matches = compare_paths_with_audio_files(train_df)\n",
        "test_matches = compare_paths_with_audio_files(test_df)\n",
        "\n",
        "# Print the counts of matching paths\n",
        "print(f\"Matching entries in dev dataset: {len(dev_matches)}\")\n",
        "print(f\"Matching entries in train dataset: {len(train_matches)}\")\n",
        "print(f\"Matching entries in test dataset: {len(test_matches)}\")\n",
        "\n",
        "# Print the path entry and corresponding audio name for each dataset\n",
        "print(\"\\nSample matches in dev dataset (path and audio name):\")\n",
        "print(dev_matches[['path', 'base_name']].head())\n",
        "\n",
        "print(\"\\nSample matches in train dataset (path and audio name):\")\n",
        "print(train_matches[['path', 'base_name']].head())\n",
        "\n",
        "print(\"\\nSample matches in test dataset (path and audio name):\")\n",
        "print(test_matches[['path', 'base_name']].head())\n"
      ]
    },
    {
      "cell_type": "code",
      "execution_count": null,
      "metadata": {
        "id": "x3MdTUMToMzK"
      },
      "outputs": [],
      "source": [
        "# Save the matching entries for each dataset to new .tsv files\n",
        "dev_matches.to_csv(filtered_dev_path, sep=\"\\t\", index=False)\n",
        "train_matches.to_csv(filtered_train_path, sep=\"\\t\", index=False)\n",
        "test_matches.to_csv(filtered_test_path, sep=\"\\t\", index=False)\n"
      ]
    }
  ],
  "metadata": {
    "colab": {
      "provenance": []
    },
    "kernelspec": {
      "display_name": "Python 3",
      "name": "python3"
    },
    "language_info": {
      "name": "python"
    }
  },
  "nbformat": 4,
  "nbformat_minor": 0
}